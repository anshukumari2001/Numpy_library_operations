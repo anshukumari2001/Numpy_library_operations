{
 "cells": [
  {
   "cell_type": "markdown",
   "metadata": {},
   "source": [
    "# Random Function"
   ]
  },
  {
   "cell_type": "code",
   "execution_count": 1,
   "metadata": {},
   "outputs": [],
   "source": [
    "import numpy as np\n",
    "import random"
   ]
  },
  {
   "cell_type": "code",
   "execution_count": 2,
   "metadata": {},
   "outputs": [
    {
     "data": {
      "text/plain": [
       "array([0.28610465])"
      ]
     },
     "execution_count": 2,
     "metadata": {},
     "output_type": "execute_result"
    }
   ],
   "source": [
    "np.random.random(1)"
   ]
  },
  {
   "cell_type": "code",
   "execution_count": 3,
   "metadata": {},
   "outputs": [
    {
     "data": {
      "text/plain": [
       "array([0.91663744, 0.26668557, 0.08707624, 0.35261966])"
      ]
     },
     "execution_count": 3,
     "metadata": {},
     "output_type": "execute_result"
    }
   ],
   "source": [
    "np.random.random(4)"
   ]
  },
  {
   "cell_type": "code",
   "execution_count": 4,
   "metadata": {},
   "outputs": [
    {
     "data": {
      "text/plain": [
       "array([[0.76852844, 0.53929054, 0.61990231, 0.98073915],\n",
       "       [0.11569162, 0.87246341, 0.23306568, 0.96326108],\n",
       "       [0.14812968, 0.71032748, 0.53122094, 0.43966541],\n",
       "       [0.00561217, 0.05654376, 0.79480675, 0.49670612]])"
      ]
     },
     "execution_count": 4,
     "metadata": {},
     "output_type": "execute_result"
    }
   ],
   "source": [
    "np.random.random((4,4))"
   ]
  },
  {
   "cell_type": "code",
   "execution_count": 5,
   "metadata": {},
   "outputs": [
    {
     "data": {
      "text/plain": [
       "0"
      ]
     },
     "execution_count": 5,
     "metadata": {},
     "output_type": "execute_result"
    }
   ],
   "source": [
    "np.random.randint(1)"
   ]
  },
  {
   "cell_type": "code",
   "execution_count": 6,
   "metadata": {},
   "outputs": [
    {
     "data": {
      "text/plain": [
       "4"
      ]
     },
     "execution_count": 6,
     "metadata": {},
     "output_type": "execute_result"
    }
   ],
   "source": [
    "np.random.randint(1,7)"
   ]
  },
  {
   "cell_type": "code",
   "execution_count": 7,
   "metadata": {},
   "outputs": [
    {
     "data": {
      "text/plain": [
       "array([[6, 4, 4, 3],\n",
       "       [6, 2, 2, 3],\n",
       "       [6, 6, 5, 6],\n",
       "       [5, 2, 2, 3]])"
      ]
     },
     "execution_count": 7,
     "metadata": {},
     "output_type": "execute_result"
    }
   ],
   "source": [
    "np.random.randint(1,7,(4,4))"
   ]
  },
  {
   "cell_type": "code",
   "execution_count": 8,
   "metadata": {},
   "outputs": [
    {
     "data": {
      "text/plain": [
       "array([0.55665666, 0.3113757 , 0.73790063])"
      ]
     },
     "execution_count": 8,
     "metadata": {},
     "output_type": "execute_result"
    }
   ],
   "source": [
    "np.random.rand(3)"
   ]
  },
  {
   "cell_type": "code",
   "execution_count": 9,
   "metadata": {},
   "outputs": [
    {
     "data": {
      "text/plain": [
       "array([[0.87646333, 0.39467251, 0.02680061, 0.89616973, 0.36052095,\n",
       "        0.8465465 ],\n",
       "       [0.9419497 , 0.38048521, 0.5020054 , 0.71533711, 0.18688003,\n",
       "        0.17390338],\n",
       "       [0.42868902, 0.08528693, 0.87584526, 0.62000905, 0.88291112,\n",
       "        0.04947276],\n",
       "       [0.19209829, 0.05586677, 0.20725203, 0.23240472, 0.43608304,\n",
       "        0.2429463 ],\n",
       "       [0.83637085, 0.35490639, 0.77739936, 0.06749186, 0.43737334,\n",
       "        0.40397503]])"
      ]
     },
     "execution_count": 9,
     "metadata": {},
     "output_type": "execute_result"
    }
   ],
   "source": [
    "np.random.rand(5,6)"
   ]
  },
  {
   "cell_type": "code",
   "execution_count": 10,
   "metadata": {},
   "outputs": [
    {
     "data": {
      "text/plain": [
       "array([-1.82626229, -0.87298835,  0.01318505,  0.26254118,  0.99219124,\n",
       "        0.1601104 ])"
      ]
     },
     "execution_count": 10,
     "metadata": {},
     "output_type": "execute_result"
    }
   ],
   "source": [
    "np.random.randn(6)"
   ]
  },
  {
   "cell_type": "code",
   "execution_count": 11,
   "metadata": {},
   "outputs": [
    {
     "data": {
      "text/plain": [
       "array([[[1, 6, 5, 6],\n",
       "        [1, 5, 4, 4],\n",
       "        [6, 6, 2, 6],\n",
       "        [1, 3, 5, 2]],\n",
       "\n",
       "       [[6, 4, 5, 6],\n",
       "        [5, 6, 1, 3],\n",
       "        [2, 2, 1, 6],\n",
       "        [3, 3, 4, 3]],\n",
       "\n",
       "       [[2, 1, 6, 2],\n",
       "        [3, 1, 1, 1],\n",
       "        [5, 4, 5, 3],\n",
       "        [3, 1, 6, 4]],\n",
       "\n",
       "       [[1, 6, 5, 6],\n",
       "        [4, 2, 1, 1],\n",
       "        [6, 6, 5, 1],\n",
       "        [5, 2, 3, 1]]])"
      ]
     },
     "execution_count": 11,
     "metadata": {},
     "output_type": "execute_result"
    }
   ],
   "source": [
    "np.random.seed(15)\n",
    "np.random.randint(1,7,(4,4,4))"
   ]
  },
  {
   "cell_type": "code",
   "execution_count": 12,
   "metadata": {},
   "outputs": [
    {
     "data": {
      "text/plain": [
       "array([[[1, 6, 5, 6],\n",
       "        [1, 5, 4, 4],\n",
       "        [6, 6, 2, 6],\n",
       "        [1, 3, 5, 2]],\n",
       "\n",
       "       [[6, 4, 5, 6],\n",
       "        [5, 6, 1, 3],\n",
       "        [2, 2, 1, 6],\n",
       "        [3, 3, 4, 3]],\n",
       "\n",
       "       [[2, 1, 6, 2],\n",
       "        [3, 1, 1, 1],\n",
       "        [5, 4, 5, 3],\n",
       "        [3, 1, 6, 4]],\n",
       "\n",
       "       [[1, 6, 5, 6],\n",
       "        [4, 2, 1, 1],\n",
       "        [6, 6, 5, 1],\n",
       "        [5, 2, 3, 1]]])"
      ]
     },
     "execution_count": 12,
     "metadata": {},
     "output_type": "execute_result"
    }
   ],
   "source": [
    "np.random.seed(15)\n",
    "np.random.randint(1,7,(4,4,4))"
   ]
  },
  {
   "cell_type": "code",
   "execution_count": 13,
   "metadata": {},
   "outputs": [
    {
     "data": {
      "text/plain": [
       "5"
      ]
     },
     "execution_count": 13,
     "metadata": {},
     "output_type": "execute_result"
    }
   ],
   "source": [
    "N=[1,2,3,4,5]\n",
    "np.random.choice(N)"
   ]
  },
  {
   "cell_type": "code",
   "execution_count": 14,
   "metadata": {},
   "outputs": [
    {
     "data": {
      "text/plain": [
       "4"
      ]
     },
     "execution_count": 14,
     "metadata": {},
     "output_type": "execute_result"
    }
   ],
   "source": [
    "N=[1,2,3,4,5]\n",
    "np.random.choice(N)"
   ]
  },
  {
   "cell_type": "code",
   "execution_count": 15,
   "metadata": {},
   "outputs": [
    {
     "data": {
      "text/plain": [
       "array([1, 4, 5, 2, 3])"
      ]
     },
     "execution_count": 15,
     "metadata": {},
     "output_type": "execute_result"
    }
   ],
   "source": [
    "\n",
    "np.random.permutation(N)"
   ]
  },
  {
   "cell_type": "code",
   "execution_count": 16,
   "metadata": {},
   "outputs": [
    {
     "name": "stdout",
     "output_type": "stream",
     "text": [
      "3\n",
      "3\n",
      "3\n",
      "3\n",
      "1\n",
      "3\n",
      "1\n",
      "5\n",
      "5\n",
      "5\n",
      "4\n",
      "5\n",
      "1\n",
      "2\n",
      "1\n",
      "5\n",
      "1\n",
      "4\n",
      "3\n",
      "5\n"
     ]
    }
   ],
   "source": [
    "for i in range(20):\n",
    "    print(np.random.choice(N))"
   ]
  },
  {
   "cell_type": "code",
   "execution_count": null,
   "metadata": {},
   "outputs": [],
   "source": []
  }
 ],
 "metadata": {
  "kernelspec": {
   "display_name": "Python 3",
   "language": "python",
   "name": "python3"
  },
  "language_info": {
   "codemirror_mode": {
    "name": "ipython",
    "version": 3
   },
   "file_extension": ".py",
   "mimetype": "text/x-python",
   "name": "python",
   "nbconvert_exporter": "python",
   "pygments_lexer": "ipython3",
   "version": "3.7.4"
  }
 },
 "nbformat": 4,
 "nbformat_minor": 2
}
